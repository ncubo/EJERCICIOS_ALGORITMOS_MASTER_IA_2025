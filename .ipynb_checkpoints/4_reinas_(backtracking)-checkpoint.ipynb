{
 "cells": [
  {
   "cell_type": "code",
   "execution_count": 1,
   "id": "0fd3374d-31dc-406c-bd6d-aaacac7f1817",
   "metadata": {},
   "outputs": [],
   "source": [
    "# Celda 1: Función de seguridad\n",
    "def is_safe(positions, row, col):\n",
    "    \"\"\"\n",
    "    Comprueba si una reina en (row, col) no es atacada\n",
    "    por las reinas ya colocadas en 'positions'.\n",
    "    - positions: lista de columnas donde ya hay reinas,\n",
    "    el índice es la fila.\n",
    "    \"\"\"\n",
    "    for r, c in enumerate(positions):\n",
    "        # misma columna o misma diagonal\n",
    "        if c == col or abs(c - col) == row - r:\n",
    "            return False\n",
    "    return True"
   ]
  },
  {
   "cell_type": "code",
   "execution_count": 2,
   "id": "1d653f15-92ce-4148-8a05-95bb496892f2",
   "metadata": {},
   "outputs": [],
   "source": [
    "# Celda 2: Algoritmo de backtracking\n",
    "def solve_n_queens(n):\n",
    "    solutions = []\n",
    "    def backtrack(row, positions):\n",
    "        # si llegamos a n filas, guardamos la solución\n",
    "        if row == n:\n",
    "            solutions.append(tuple(positions))\n",
    "            return\n",
    "        # probamos cada columna\n",
    "        for col in range(n):\n",
    "            if is_safe(positions, row, col):\n",
    "                positions.append(col)\n",
    "                backtrack(row + 1, positions)\n",
    "                positions.pop()\n",
    "    backtrack(0, [])\n",
    "    return solutions"
   ]
  },
  {
   "cell_type": "code",
   "execution_count": 3,
   "id": "bcd9898c-90ec-4f6d-9a7e-9f059e19dce9",
   "metadata": {},
   "outputs": [
    {
     "name": "stdout",
     "output_type": "stream",
     "text": [
      "Se han encontrado 2 soluciones para 4 reinas:\n",
      "→ (1, 3, 0, 2)\n",
      "→ (2, 0, 3, 1)\n"
     ]
    }
   ],
   "source": [
    "# Celda 3: Ejecución y despliegue de soluciones\n",
    "sols = solve_n_queens(4)\n",
    "print(f\"Se han encontrado {len(sols)} soluciones para 4 reinas:\")\n",
    "for s in sols:\n",
    "    print(\"→\", s)"
   ]
  },
  {
   "cell_type": "code",
   "execution_count": null,
   "id": "b6cf9c48-415b-4f53-8f71-93a546bc6ce7",
   "metadata": {},
   "outputs": [],
   "source": []
  }
 ],
 "metadata": {
  "kernelspec": {
   "display_name": "Python 3 (ipykernel)",
   "language": "python",
   "name": "python3"
  },
  "language_info": {
   "codemirror_mode": {
    "name": "ipython",
    "version": 3
   },
   "file_extension": ".py",
   "mimetype": "text/x-python",
   "name": "python",
   "nbconvert_exporter": "python",
   "pygments_lexer": "ipython3",
   "version": "3.9.6"
  }
 },
 "nbformat": 4,
 "nbformat_minor": 5
}
