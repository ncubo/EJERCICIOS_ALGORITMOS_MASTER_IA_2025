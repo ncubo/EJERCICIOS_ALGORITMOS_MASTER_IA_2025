{
 "cells": [
  {
   "cell_type": "code",
   "execution_count": 1,
   "id": "9490ef53-2568-40dd-b5ea-bc4097764663",
   "metadata": {},
   "outputs": [],
   "source": [
    "# Celda 1: Inicialización\n",
    "import math\n",
    "\n",
    "n = 4\n",
    "inf = math.inf\n",
    "\n",
    "T = [\n",
    "    [inf, 3, 8, inf],\n",
    "    [inf, inf, 2, 5],\n",
    "    [inf, inf, inf, 1],\n",
    "    [inf, inf, inf, inf]\n",
    "]\n",
    "\n",
    "# Matriz C con los costes iniciales directos\n",
    "C = [[inf]*n for _ in range(n)]\n",
    "for i in range(n):\n",
    "    for j in range(n):\n",
    "        if i < j:\n",
    "            C[i][j] = T[i][j]"
   ]
  },
  {
   "cell_type": "code",
   "execution_count": 2,
   "id": "96f2809a-6902-480f-bb6c-d071aa1d7ed2",
   "metadata": {},
   "outputs": [],
   "source": [
    "# Celda 2: Programación dinámica\n",
    "# Recorremos longitudes de subtrayecto desde 2 hasta n-1\n",
    "for length in range(2, n):\n",
    "    for i in range(n - length):\n",
    "        j = i + length\n",
    "        # probamos todos los embarcaderos intermedios k\n",
    "        for k in range(i+1, j):\n",
    "            cost = T[i][k] + C[k][j]\n",
    "            if cost < C[i][j]:\n",
    "                C[i][j] = cost"
   ]
  },
  {
   "cell_type": "code",
   "execution_count": 3,
   "id": "63d201d0-c885-4eed-a719-83d0d7328183",
   "metadata": {},
   "outputs": [
    {
     "name": "stdout",
     "output_type": "stream",
     "text": [
      "Matriz de costes mínimos C:\n",
      "[inf, 3, 5, 6]\n",
      "[inf, inf, 2, 3]\n",
      "[inf, inf, inf, 1]\n",
      "[inf, inf, inf, inf]\n",
      "\n",
      "Coste mínimo de 1 → 4: 6\n"
     ]
    }
   ],
   "source": [
    "# Celda 3: Resultados\n",
    "print(\"Matriz de costes mínimos C:\")\n",
    "for row in C:\n",
    "    print(row)\n",
    "print(f\"\\nCoste mínimo de 1 → 4: {C[0][3]}\")"
   ]
  },
  {
   "cell_type": "code",
   "execution_count": null,
   "id": "c151dcb8-5d82-4cc9-8d75-e3fedd6114e2",
   "metadata": {},
   "outputs": [],
   "source": []
  }
 ],
 "metadata": {
  "kernelspec": {
   "display_name": "Python 3 (ipykernel)",
   "language": "python",
   "name": "python3"
  },
  "language_info": {
   "codemirror_mode": {
    "name": "ipython",
    "version": 3
   },
   "file_extension": ".py",
   "mimetype": "text/x-python",
   "name": "python",
   "nbconvert_exporter": "python",
   "pygments_lexer": "ipython3",
   "version": "3.9.6"
  }
 },
 "nbformat": 4,
 "nbformat_minor": 5
}
