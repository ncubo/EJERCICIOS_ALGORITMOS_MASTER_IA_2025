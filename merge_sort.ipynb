{
 "cells": [
  {
   "cell_type": "code",
   "execution_count": 3,
   "id": "79e354ee-19e4-4bec-a449-dff760bee031",
   "metadata": {},
   "outputs": [],
   "source": [
    "# Celda 1: Definición de la función merge\n",
    "def merge(left, right):\n",
    "    \"\"\"\n",
    "    Fusiona dos listas ya ordenadas (left y right) en una sola lista\n",
    "    ordenada.\n",
    "    \"\"\"\n",
    "    merged = []\n",
    "    i = j = 0\n",
    "    \n",
    "    # Recorremos ambas sublistas y tomamos el elemento menor en cada paso\n",
    "    while i < len(left) and j < len(right):\n",
    "        if left[i] <= right[j]:\n",
    "            merged.append(left[i])\n",
    "        i += 1\n",
    "    else:\n",
    "        merged.append(right[j])\n",
    "        j += 1\n",
    "        \n",
    "    # Si quedan elementos en alguna de las dos sublistas, los añadimos\n",
    "    merged.extend(left[i:])\n",
    "    merged.extend(right[j:])\n",
    "    return merged"
   ]
  },
  {
   "cell_type": "code",
   "execution_count": 4,
   "id": "3e5c3f49-7301-44fb-8d50-67505c2ef338",
   "metadata": {},
   "outputs": [],
   "source": [
    "# Celda 2: Definición del algoritmo merge_sort\n",
    "def merge_sort(arr):\n",
    "    \"\"\"\n",
    "    Ordena recursivamente la lista arr utilizando Merge Sort.\n",
    "    \"\"\"\n",
    "    # Caso base: lista de tamaño 0 o 1 ya está ordenada\n",
    "    if len(arr) <= 1:\n",
    "        return arr\n",
    "    # Dividir en mitades\n",
    "    mid = len(arr) // 2\n",
    "    left = merge_sort(arr[:mid])\n",
    "    right = merge_sort(arr[mid:])\n",
    "    # Fusionar las mitades ordenadas\n",
    "    return merge(left, right)"
   ]
  },
  {
   "cell_type": "code",
   "execution_count": 5,
   "id": "bc0a1d1c-6d89-4fa4-90c1-b0ea9c0e69c3",
   "metadata": {},
   "outputs": [
    {
     "name": "stdout",
     "output_type": "stream",
     "text": [
      "Lista original: [38, 27, 43, 3, 9, 82, 10]\n",
      "Lista ordenada: [3, 9, 10]\n"
     ]
    }
   ],
   "source": [
    "# Celda 3: Prueba del algoritmo\n",
    "datos = [38, 27, 43, 3, 9, 82, 10]\n",
    "print(\"Lista original:\", datos)\n",
    "ordenada = merge_sort(datos)\n",
    "print(\"Lista ordenada:\", ordenada)"
   ]
  },
  {
   "cell_type": "code",
   "execution_count": null,
   "id": "b193a43c-635b-44ff-ab7b-728f8e216723",
   "metadata": {},
   "outputs": [],
   "source": []
  }
 ],
 "metadata": {
  "kernelspec": {
   "display_name": "Python 3 (ipykernel)",
   "language": "python",
   "name": "python3"
  },
  "language_info": {
   "codemirror_mode": {
    "name": "ipython",
    "version": 3
   },
   "file_extension": ".py",
   "mimetype": "text/x-python",
   "name": "python",
   "nbconvert_exporter": "python",
   "pygments_lexer": "ipython3",
   "version": "3.9.6"
  }
 },
 "nbformat": 4,
 "nbformat_minor": 5
}
