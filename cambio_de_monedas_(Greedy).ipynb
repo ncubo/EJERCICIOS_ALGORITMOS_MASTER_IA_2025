{
 "cells": [
  {
   "cell_type": "code",
   "execution_count": 2,
   "id": "f3a5dd0c-ee7e-4f70-93dc-dec6c9719a66",
   "metadata": {},
   "outputs": [],
   "source": [
    "# Celda 1: Definición de la función greedy_change\n",
    "def greedy_change(amount, coins):\n",
    "    \"\"\"\n",
    "    Descompone la cantidad 'amount' usando el menor número de monedas\n",
    "    según la estrategia voraz: siempre tomar tantas como sea posible\n",
    "    de la mayor denominación disponible.\n",
    "    - amount: entero >= 0\n",
    "    - coins: lista de denominaciones en orden descendente\n",
    "    \"\"\"\n",
    "    result = {}\n",
    "    for coin in coins:\n",
    "        count = amount // coin \n",
    "        if count > 0:\n",
    "            result[coin] = count\n",
    "            amount -= coin * count \n",
    "    return result"
   ]
  },
  {
   "cell_type": "code",
   "execution_count": 3,
   "id": "80d03c1e-9c0d-444f-8ac9-a777febe7c83",
   "metadata": {},
   "outputs": [
    {
     "name": "stdout",
     "output_type": "stream",
     "text": [
      "Cambio para 63 unidades:\n",
      " 2 moneda(s) de 25\n",
      " 1 moneda(s) de 10\n",
      " 3 moneda(s) de 1\n"
     ]
    }
   ],
   "source": [
    "# Celda 2: Prueba con C = 63 y monedas [25, 10, 5, 1]\n",
    "monedas = [25, 10, 5, 1]\n",
    "C = 63\n",
    "cambio = greedy_change(C, monedas)\n",
    "print(f\"Cambio para {C} unidades:\")\n",
    "for denom, num in cambio.items():\n",
    "    print(f\" {num} moneda(s) de {denom}\")"
   ]
  },
  {
   "cell_type": "code",
   "execution_count": null,
   "id": "af5ba097-56e2-4a5d-9bec-f7e318859c59",
   "metadata": {},
   "outputs": [],
   "source": []
  }
 ],
 "metadata": {
  "kernelspec": {
   "display_name": "Python 3 (ipykernel)",
   "language": "python",
   "name": "python3"
  },
  "language_info": {
   "codemirror_mode": {
    "name": "ipython",
    "version": 3
   },
   "file_extension": ".py",
   "mimetype": "text/x-python",
   "name": "python",
   "nbconvert_exporter": "python",
   "pygments_lexer": "ipython3",
   "version": "3.9.6"
  }
 },
 "nbformat": 4,
 "nbformat_minor": 5
}
