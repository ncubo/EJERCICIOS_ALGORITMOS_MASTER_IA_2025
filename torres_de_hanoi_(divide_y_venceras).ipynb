{
 "cells": [
  {
   "cell_type": "code",
   "execution_count": 1,
   "id": "ddcd6e55-8c78-4f08-9ab4-6b925cd02cd9",
   "metadata": {},
   "outputs": [],
   "source": [
    "# Celda 1: Algoritmo recursivo\n",
    "def hanoi(n, source, target, auxiliary, moves):\n",
    "    \"\"\"\n",
    "    Rellena 'moves' con tuplas (origen, destino) para\n",
    "    mover n discos de 'source' a 'target' usando 'auxiliary'.\n",
    "    \"\"\"\n",
    "    if n == 1:\n",
    "        moves.append((source, target))\n",
    "    else:\n",
    "        # mover n-1 de source a auxiliary\n",
    "        hanoi(n-1, source, auxiliary, target, moves)\n",
    "        # mover el disco más grande a target\n",
    "        moves.append((source, target))\n",
    "        # mover n-1 de auxiliary a target\n",
    "        hanoi(n-1, auxiliary, target, source, moves)"
   ]
  },
  {
   "cell_type": "code",
   "execution_count": 2,
   "id": "8262a6b7-40e8-4c73-838c-acf305c02fa0",
   "metadata": {},
   "outputs": [],
   "source": [
    "# Celda 2: Ejecución\n",
    "moves = []\n",
    "hanoi(4, 'A', 'C', 'B', moves)"
   ]
  },
  {
   "cell_type": "code",
   "execution_count": 3,
   "id": "64013a55-9959-49f4-bd66-40ea438c4d8f",
   "metadata": {},
   "outputs": [
    {
     "name": "stdout",
     "output_type": "stream",
     "text": [
      "Total de movimientos: 15\n",
      "\n",
      "Mov 1: A → B\n",
      "Mov 2: A → C\n",
      "Mov 3: B → C\n",
      "Mov 4: A → B\n",
      "Mov 5: C → A\n",
      "Mov 6: C → B\n",
      "Mov 7: A → B\n",
      "Mov 8: A → C\n",
      "Mov 9: B → C\n",
      "Mov 10: B → A\n",
      "Mov 11: C → A\n",
      "Mov 12: B → C\n",
      "Mov 13: A → B\n",
      "Mov 14: A → C\n",
      "Mov 15: B → C\n"
     ]
    }
   ],
   "source": [
    "# Celda 3: Resultados\n",
    "print(f\"Total de movimientos: {len(moves)}\\n\")\n",
    "for i, (o, d) in enumerate(moves, 1):\n",
    "    print(f\"Mov {i}: {o} → {d}\")"
   ]
  },
  {
   "cell_type": "code",
   "execution_count": null,
   "id": "efae5cab-94bd-4026-bf64-8e2b28bb5676",
   "metadata": {},
   "outputs": [],
   "source": []
  }
 ],
 "metadata": {
  "kernelspec": {
   "display_name": "Python 3 (ipykernel)",
   "language": "python",
   "name": "python3"
  },
  "language_info": {
   "codemirror_mode": {
    "name": "ipython",
    "version": 3
   },
   "file_extension": ".py",
   "mimetype": "text/x-python",
   "name": "python",
   "nbconvert_exporter": "python",
   "pygments_lexer": "ipython3",
   "version": "3.9.6"
  }
 },
 "nbformat": 4,
 "nbformat_minor": 5
}
